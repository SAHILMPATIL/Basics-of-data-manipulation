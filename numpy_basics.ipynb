{
  "nbformat": 4,
  "nbformat_minor": 0,
  "metadata": {
    "colab": {
      "provenance": [],
      "mount_file_id": "1boZXy07PiUQdViQuIZW-3fnoon9ifpeD",
      "authorship_tag": "ABX9TyNOu2DrPmCx7L2yUP8Os6T1"
    },
    "kernelspec": {
      "name": "python3",
      "display_name": "Python 3"
    },
    "language_info": {
      "name": "python"
    }
  },
  "cells": [
    {
      "cell_type": "code",
      "execution_count": null,
      "metadata": {
        "colab": {
          "base_uri": "https://localhost:8080/"
        },
        "id": "bK32Bp0px9z6",
        "outputId": "7f589080-de36-477c-9430-d602c8e2f90b"
      },
      "outputs": [
        {
          "output_type": "stream",
          "name": "stdout",
          "text": [
            "Requirement already satisfied: numpy in /usr/local/lib/python3.11/dist-packages (1.26.4)\n"
          ]
        }
      ],
      "source": [
        "!pip install numpy"
      ]
    },
    {
      "cell_type": "code",
      "source": [
        "import numpy as np\n"
      ],
      "metadata": {
        "id": "4vaLpfwLy6tE"
      },
      "execution_count": null,
      "outputs": []
    },
    {
      "cell_type": "code",
      "source": [
        "arr1=np.array([1,2,3,4,5])\n",
        "print(arr1)\n",
        "print(type(arr1))\n",
        "print(arr1.shape)"
      ],
      "metadata": {
        "colab": {
          "base_uri": "https://localhost:8080/"
        },
        "id": "BVy7FJCayQRS",
        "outputId": "537a4cb7-1c9f-4853-ab2f-bc34a8fad41a"
      },
      "execution_count": null,
      "outputs": [
        {
          "output_type": "stream",
          "name": "stdout",
          "text": [
            "[1 2 3 4 5]\n",
            "<class 'numpy.ndarray'>\n",
            "(5,)\n"
          ]
        }
      ]
    },
    {
      "cell_type": "code",
      "source": [
        "np.ones((3,4))# to quickly create an array of ones consisting of row =3 and columns-  4"
      ],
      "metadata": {
        "colab": {
          "base_uri": "https://localhost:8080/"
        },
        "id": "wZMsulcIzCDI",
        "outputId": "c9ceea6a-5aa6-4758-e07b-54e50345f2b2"
      },
      "execution_count": null,
      "outputs": [
        {
          "output_type": "execute_result",
          "data": {
            "text/plain": [
              "array([[1., 1., 1., 1.],\n",
              "       [1., 1., 1., 1.],\n",
              "       [1., 1., 1., 1.]])"
            ]
          },
          "metadata": {},
          "execution_count": 7
        }
      ]
    },
    {
      "cell_type": "markdown",
      "source": [],
      "metadata": {
        "id": "S2T1YheW0RzE"
      }
    },
    {
      "cell_type": "code",
      "source": [
        "np.eye(3)"
      ],
      "metadata": {
        "colab": {
          "base_uri": "https://localhost:8080/"
        },
        "id": "CDHaTK88z6Ts",
        "outputId": "00fe99d4-e810-4e79-b50c-ac030df2d110"
      },
      "execution_count": null,
      "outputs": [
        {
          "output_type": "execute_result",
          "data": {
            "text/plain": [
              "array([[1., 0., 0.],\n",
              "       [0., 1., 0.],\n",
              "       [0., 0., 1.]])"
            ]
          },
          "metadata": {},
          "execution_count": 8
        }
      ]
    },
    {
      "cell_type": "code",
      "source": [
        "arr = np.array([[1,3,4],[5,6,8]])\n",
        "print(\"array:\\n\",arr)\n",
        "print(\"shape: \", arr.shape )\n",
        "print(\"number of dimensions:\",arr.ndim)\n",
        "print(\"size (no of elements ):\",arr.size)\n",
        "print(\"data type \", arr.dtype)\n",
        "print(\"item size (in bytes)\",arr.itemsize)"
      ],
      "metadata": {
        "colab": {
          "base_uri": "https://localhost:8080/"
        },
        "id": "PObw8-aN0aVP",
        "outputId": "75532202-1a8c-439d-908b-e141bd8ec515"
      },
      "execution_count": null,
      "outputs": [
        {
          "output_type": "stream",
          "name": "stdout",
          "text": [
            "array:\n",
            " [[1 3 4]\n",
            " [5 6 8]]\n",
            "shape:  (2, 3)\n",
            "number of dimensions: 2\n",
            "size (no of elements ): 6\n",
            "data type  int64\n",
            "item size (in bytes) 8\n"
          ]
        }
      ]
    },
    {
      "cell_type": "code",
      "source": [
        "#vectorized\n",
        "ar1 =np.array([1,2,3,4,5])\n",
        "ar2 =np.array([4,5,6,8,9])\n",
        "print(\"addition\",ar1+ar2)\n",
        "print(\"subtraction\",ar1-ar2)\n",
        "print(\"multiplication\",ar1*ar2)\n",
        "print(\"division\",ar1/ar2)"
      ],
      "metadata": {
        "colab": {
          "base_uri": "https://localhost:8080/"
        },
        "id": "dT3cGOYa1nWU",
        "outputId": "3b8341c5-fb0c-49d6-e149-89566389db24"
      },
      "execution_count": null,
      "outputs": [
        {
          "output_type": "stream",
          "name": "stdout",
          "text": [
            "addition [ 5  7  9 12 14]\n",
            "subtraction [-3 -3 -3 -4 -4]\n",
            "multiplication [ 4 10 18 32 45]\n",
            "division [0.25       0.4        0.5        0.5        0.55555556]\n"
          ]
        }
      ]
    },
    {
      "cell_type": "code",
      "source": [
        "#universal functions\n",
        "arry1=np.array([1,4,6,7,8])\n",
        "print (np.sqrt(arr))\n",
        "print (np.exp(arr))\n",
        "print (np.log(arr))\n",
        "print (np.sin(arr))"
      ],
      "metadata": {
        "colab": {
          "base_uri": "https://localhost:8080/"
        },
        "id": "MtOscjbu1zq_",
        "outputId": "d5a50ded-8238-48fd-a9d8-04e882244e60"
      },
      "execution_count": null,
      "outputs": [
        {
          "output_type": "stream",
          "name": "stdout",
          "text": [
            "[[1.         1.73205081 2.        ]\n",
            " [2.23606798 2.44948974 2.82842712]]\n",
            "[[2.71828183e+00 2.00855369e+01 5.45981500e+01]\n",
            " [1.48413159e+02 4.03428793e+02 2.98095799e+03]]\n",
            "[[0.         1.09861229 1.38629436]\n",
            " [1.60943791 1.79175947 2.07944154]]\n",
            "[[ 0.84147098  0.14112001 -0.7568025 ]\n",
            " [-0.95892427 -0.2794155   0.98935825]]\n"
          ]
        }
      ]
    },
    {
      "cell_type": "code",
      "source": [
        "#array slicing and indexing\n",
        "arr = np.array([[1,3,4,6],[1,4,5,7],[4,6,73,4]])\n",
        "print(\"array:\\n\",arr)"
      ],
      "metadata": {
        "colab": {
          "base_uri": "https://localhost:8080/"
        },
        "id": "gR0JXntG3EPl",
        "outputId": "149b3bc0-5e22-4d95-cce5-e5e560bc3e67"
      },
      "execution_count": null,
      "outputs": [
        {
          "output_type": "stream",
          "name": "stdout",
          "text": [
            "array:\n",
            " [[ 1  3  4  6]\n",
            " [ 1  4  5  7]\n",
            " [ 4  6 73  4]]\n"
          ]
        }
      ]
    },
    {
      "cell_type": "code",
      "source": [
        "arr[1][3] #accesing the array elements using indexing"
      ],
      "metadata": {
        "colab": {
          "base_uri": "https://localhost:8080/"
        },
        "id": "-bBcpUX2340C",
        "outputId": "a23b0789-fc4f-47ae-980d-927148b3615c"
      },
      "execution_count": null,
      "outputs": [
        {
          "output_type": "execute_result",
          "data": {
            "text/plain": [
              "7"
            ]
          },
          "metadata": {},
          "execution_count": 16
        }
      ]
    },
    {
      "cell_type": "code",
      "source": [
        "print(arr[0:2,2:])\n",
        "print(arr[1:,1:3])"
      ],
      "metadata": {
        "colab": {
          "base_uri": "https://localhost:8080/"
        },
        "id": "qCq7ux1T4J9m",
        "outputId": "0a7afbb2-ba84-40a8-fb8f-949d7c07ed09"
      },
      "execution_count": null,
      "outputs": [
        {
          "output_type": "stream",
          "name": "stdout",
          "text": [
            "[[4 6]\n",
            " [5 7]]\n",
            "[[ 4  5]\n",
            " [ 6 73]]\n"
          ]
        }
      ]
    },
    {
      "cell_type": "code",
      "source": [
        "arr[2,1]=7\n",
        "print(arr)"
      ],
      "metadata": {
        "colab": {
          "base_uri": "https://localhost:8080/"
        },
        "id": "g7KUHlbN5dRc",
        "outputId": "7faeace1-df43-4675-d1dd-455ce0cdadce"
      },
      "execution_count": null,
      "outputs": [
        {
          "output_type": "stream",
          "name": "stdout",
          "text": [
            "[[1 3 4 6]\n",
            " [1 4 5 7]\n",
            " [4 7 7 4]]\n"
          ]
        }
      ]
    },
    {
      "cell_type": "code",
      "source": [
        "#normalization\n",
        "data = np.array([1,4,5,7,8])\n",
        "mean=np.mean(data)\n",
        "std_dev=np.std(data)\n",
        "norm=(data-mean)/std_dev\n",
        "print(\"normalized data\",norm)"
      ],
      "metadata": {
        "colab": {
          "base_uri": "https://localhost:8080/"
        },
        "id": "EOdwiQvS56Kc",
        "outputId": "719cad4d-f31a-48ac-dc7a-449f5b6fe99d"
      },
      "execution_count": null,
      "outputs": [
        {
          "output_type": "stream",
          "name": "stdout",
          "text": [
            "normalized data [-1.63299316 -0.40824829  0.          0.81649658  1.22474487]\n"
          ]
        }
      ]
    },
    {
      "cell_type": "code",
      "source": [
        "#statistical operations\n",
        "data = np.array([1,4,5,7,8,3,52,5,2])\n",
        "print(\"mean\",np.mean(data))\n",
        "print(\"median\",np.median(data))\n",
        "print(\"standard deviation\",np.std(data))\n",
        "print(\"variance\",np.var(data))"
      ],
      "metadata": {
        "colab": {
          "base_uri": "https://localhost:8080/"
        },
        "id": "LxxA-EL46h27",
        "outputId": "a4f908b8-14e9-4687-f27a-4774f06061ed"
      },
      "execution_count": null,
      "outputs": [
        {
          "output_type": "stream",
          "name": "stdout",
          "text": [
            "mean 9.666666666666666\n",
            "median 5.0\n",
            "standard deviation 15.114378731672845\n",
            "variance 228.44444444444446\n"
          ]
        }
      ]
    },
    {
      "cell_type": "code",
      "source": [
        "#logical operation\n",
        "data = np.array([1,4,5,7,8])\n",
        "data>4\n",
        "data[data>5]"
      ],
      "metadata": {
        "colab": {
          "base_uri": "https://localhost:8080/"
        },
        "id": "yZ34ivqN7AT7",
        "outputId": "90937c8f-828c-44ce-d250-09b780231900"
      },
      "execution_count": null,
      "outputs": [
        {
          "output_type": "execute_result",
          "data": {
            "text/plain": [
              "array([7, 8])"
            ]
          },
          "metadata": {},
          "execution_count": 25
        }
      ]
    },
    {
      "cell_type": "code",
      "source": [
        "from google.colab import drive\n",
        "drive.mount('/content/drive')"
      ],
      "metadata": {
        "id": "NGYK06qz8nCE",
        "colab": {
          "base_uri": "https://localhost:8080/"
        },
        "outputId": "0505af6b-79c3-44b0-d538-a21f2f12320a"
      },
      "execution_count": null,
      "outputs": [
        {
          "output_type": "stream",
          "name": "stdout",
          "text": [
            "Drive already mounted at /content/drive; to attempt to forcibly remount, call drive.mount(\"/content/drive\", force_remount=True).\n"
          ]
        }
      ]
    }
  ]
}