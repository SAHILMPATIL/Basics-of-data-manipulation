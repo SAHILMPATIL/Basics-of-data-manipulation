{
  "nbformat": 4,
  "nbformat_minor": 0,
  "metadata": {
    "colab": {
      "provenance": [],
      "authorship_tag": "ABX9TyMO4OmAwXCWsAGq2wCMcbZo"
    },
    "kernelspec": {
      "name": "python3",
      "display_name": "Python 3"
    },
    "language_info": {
      "name": "python"
    }
  },
  "cells": [
    {
      "cell_type": "code",
      "execution_count": 1,
      "metadata": {
        "id": "_SY9DI0KZMcL"
      },
      "outputs": [],
      "source": [
        "import sqlite3"
      ]
    },
    {
      "cell_type": "code",
      "source": [
        "connection=sqlite3.connect('example.db')\n",
        "connection"
      ],
      "metadata": {
        "colab": {
          "base_uri": "https://localhost:8080/"
        },
        "id": "p8BOFbSIZPY0",
        "outputId": "b0aa468d-2bf1-40db-ac74-2cf113eec867"
      },
      "execution_count": 2,
      "outputs": [
        {
          "output_type": "execute_result",
          "data": {
            "text/plain": [
              "<sqlite3.Connection at 0x7969e8eefd30>"
            ]
          },
          "metadata": {},
          "execution_count": 2
        }
      ]
    },
    {
      "cell_type": "code",
      "source": [
        "cursor=connection.cursor()"
      ],
      "metadata": {
        "id": "XkXYFFC_Z2N8"
      },
      "execution_count": 3,
      "outputs": []
    },
    {
      "cell_type": "code",
      "source": [
        "cursor.execute('''\n",
        "Create Table If Not Exists Employees(\n",
        "  id integer Primary Key,\n",
        "  name text Not Null,\n",
        "  age integer,\n",
        "  department text,\n",
        "  salary real\n",
        "  )\n",
        "\n",
        "''')\n",
        "connection.commit()\n"
      ],
      "metadata": {
        "id": "lHRBxjH6aIzL"
      },
      "execution_count": 4,
      "outputs": []
    },
    {
      "cell_type": "code",
      "source": [
        "cursor.execute('''\n",
        "Select * from Employees\n",
        "''')"
      ],
      "metadata": {
        "colab": {
          "base_uri": "https://localhost:8080/"
        },
        "id": "MBFewinNaom9",
        "outputId": "ea2118a2-4f14-4b58-b9df-73b7327b980a"
      },
      "execution_count": 5,
      "outputs": [
        {
          "output_type": "execute_result",
          "data": {
            "text/plain": [
              "<sqlite3.Cursor at 0x7969e8d86040>"
            ]
          },
          "metadata": {},
          "execution_count": 5
        }
      ]
    },
    {
      "cell_type": "code",
      "source": [
        "cursor.execute('''\n",
        "  Insert Into Employees(name,age,department,salary)\n",
        "  Values('John Doe',30,'IT',50000)\n",
        "''')\n",
        "cursor.execute('''\n",
        "  Insert Into Employees(name,age,department,salary)\n",
        "  Values('MAhindra',50,'Automation',100000)\n",
        "''')\n",
        "cursor.execute('''\n",
        "  Insert Into Employees(name,age,department,salary)\n",
        "  Values('Simon Dull',40,'Finance',35000)\n",
        "''')\n",
        "cursor.execute('''\n",
        "  Insert Into Employees(name,age,department,salary)\n",
        "  Values('John',34,'sales',40000)\n",
        "''')\n",
        "connection.commit()"
      ],
      "metadata": {
        "id": "q8rRJF-AazwC"
      },
      "execution_count": 6,
      "outputs": []
    },
    {
      "cell_type": "code",
      "source": [
        "cursor.execute('Select * from Employees')\n",
        "rows=cursor.fetchall()\n",
        "for row in rows:\n",
        "  print(row)\n"
      ],
      "metadata": {
        "colab": {
          "base_uri": "https://localhost:8080/"
        },
        "id": "Xdv4oiGydzS8",
        "outputId": "6c69334e-614d-4c9a-d351-9890d88e6bb0"
      },
      "execution_count": 7,
      "outputs": [
        {
          "output_type": "stream",
          "name": "stdout",
          "text": [
            "(1, 'John Doe', 30, 'IT', 50000.0)\n",
            "(2, 'MAhindra', 50, 'Automation', 100000.0)\n",
            "(3, 'Simon Dull', 40, 'Finance', 35000.0)\n",
            "(4, 'John', 34, 'sales', 40000.0)\n"
          ]
        }
      ]
    },
    {
      "cell_type": "code",
      "source": [
        "cursor.execute('''\n",
        "  UPDATE Employees\n",
        "  SET salary=60000\n",
        "  WHERE name='John Doe'\n",
        "''')\n",
        "connection.commit()"
      ],
      "metadata": {
        "id": "pTiO2twXeOKA"
      },
      "execution_count": 8,
      "outputs": []
    },
    {
      "cell_type": "code",
      "source": [
        "cursor.execute('Select * from Employees')\n",
        "rows=cursor.fetchall()\n",
        "for row in rows:\n",
        "  print(row)"
      ],
      "metadata": {
        "colab": {
          "base_uri": "https://localhost:8080/"
        },
        "id": "ZhWBNmNaes5y",
        "outputId": "07604820-08f1-44b4-ed89-1aba08f8ac70"
      },
      "execution_count": 9,
      "outputs": [
        {
          "output_type": "stream",
          "name": "stdout",
          "text": [
            "(1, 'John Doe', 30, 'IT', 60000.0)\n",
            "(2, 'MAhindra', 50, 'Automation', 100000.0)\n",
            "(3, 'Simon Dull', 40, 'Finance', 35000.0)\n",
            "(4, 'John', 34, 'sales', 40000.0)\n"
          ]
        }
      ]
    },
    {
      "cell_type": "code",
      "source": [
        "cursor.execute('''\n",
        "  Delete from Employees\n",
        "  WHERE name='John Doe'\n",
        "''')\n",
        "connection.commit()"
      ],
      "metadata": {
        "id": "ECIGtzSYexx2"
      },
      "execution_count": 11,
      "outputs": []
    },
    {
      "cell_type": "code",
      "source": [
        "cursor.execute('Select * from Employees')\n",
        "rows=cursor.fetchall()\n",
        "for row in rows:\n",
        "  print(row)"
      ],
      "metadata": {
        "colab": {
          "base_uri": "https://localhost:8080/"
        },
        "id": "3XcF_4X4fCvZ",
        "outputId": "ff9c5947-9a54-4050-ffeb-904d505985a5"
      },
      "execution_count": 12,
      "outputs": [
        {
          "output_type": "stream",
          "name": "stdout",
          "text": [
            "(2, 'MAhindra', 50, 'Automation', 100000.0)\n",
            "(3, 'Simon Dull', 40, 'Finance', 35000.0)\n",
            "(4, 'John', 34, 'sales', 40000.0)\n"
          ]
        }
      ]
    },
    {
      "cell_type": "code",
      "source": [
        "\n",
        "\n",
        "connection = sqlite3.connect('Sales_data.db')\n",
        "cursor = connection.cursor()\n",
        "\n",
        "# Dropping the  existing table if it exists\n",
        "cursor.execute('DROP TABLE IF EXISTS sales')\n",
        "\n",
        "# Creating the table\n",
        "cursor.execute('''\n",
        "  CREATE TABLE sales (\n",
        "    id INTEGER PRIMARY KEY,\n",
        "    date TEXT NOT NULL,\n",
        "    product TEXT,\n",
        "    sales INTEGER,\n",
        "    region TEXT\n",
        "  )\n",
        "''')\n",
        "\n",
        "\n",
        "sales_data = [\n",
        "    ('2025-01-01', 'ProductA', 100, 'North'),\n",
        "    ('2025-01-02', 'ProductB', 500, 'South'),\n",
        "    ('2025-01-03', 'ProductC', 250, 'East'),\n",
        "    ('2025-01-04', 'ProductD', 200, 'West'),\n",
        "    ('2026-01-05', 'ProductE', 150, 'North')\n",
        "]\n",
        "\n",
        "cursor.executemany('''\n",
        "  INSERT INTO sales (date, product, sales, region)\n",
        "  VALUES (?, ?, ?, ?)\n",
        "''', sales_data)\n",
        "\n",
        "connection.commit()\n",
        "\n"
      ],
      "metadata": {
        "id": "TG_KNj3UfNFm"
      },
      "execution_count": 43,
      "outputs": []
    },
    {
      "cell_type": "code",
      "source": [
        "cursor.execute('Select * from sales')\n",
        "rows=cursor.fetchall()\n",
        "for row in rows:\n",
        "  print(row)"
      ],
      "metadata": {
        "colab": {
          "base_uri": "https://localhost:8080/"
        },
        "id": "1Wvd_wk7kZ1Q",
        "outputId": "562a0faf-f116-4b33-a02c-dba888f0ea94"
      },
      "execution_count": 44,
      "outputs": [
        {
          "output_type": "stream",
          "name": "stdout",
          "text": [
            "(1, '2025-01-01', 'ProductA', 100, 'North')\n",
            "(2, '2025-01-02', 'ProductB', 500, 'South')\n",
            "(3, '2025-01-03', 'ProductC', 250, 'East')\n",
            "(4, '2025-01-04', 'ProductD', 200, 'West')\n",
            "(5, '2026-01-05', 'ProductE', 150, 'North')\n"
          ]
        }
      ]
    },
    {
      "cell_type": "code",
      "source": [
        "  connection.close()# it  closes the database"
      ],
      "metadata": {
        "id": "5wDwcqHekmZa"
      },
      "execution_count": 45,
      "outputs": []
    }
  ]
}